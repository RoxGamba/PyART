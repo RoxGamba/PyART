{
 "cells": [
  {
   "cell_type": "markdown",
   "id": "380e6c3b",
   "metadata": {},
   "source": [
    "# 2. Time and Phase Alignment\n",
    "\n",
    "This tutorial demonstrates how to use PyART to align waveforms in time and phase."
   ]
  },
  {
   "cell_type": "code",
   "execution_count": 1,
   "id": "70d0131c",
   "metadata": {},
   "outputs": [],
   "source": [
    "%matplotlib inline\n",
    "%config InlineBackend.figure_format = 'retina'\n",
    "\n",
    "import numpy, pylab\n",
    "import seaborn as sns\n",
    "\n",
    "# Set up Seaborn aesthetics\n",
    "sns.set_context('talk') \n",
    "sns.set_theme(font_scale=1.2)\n",
    "sns.set_style('ticks')\n",
    "\n",
    "# Update matplotlib rcParams\n",
    "pylab.rcParams.update(\n",
    "    {\n",
    "        'text.usetex': False,\n",
    "        'font.family': 'stixgeneral',\n",
    "        'mathtext.fontset': 'stix',\n",
    "        'axes.grid': True,\n",
    "        'grid.linestyle': ':',\n",
    "        'grid.color': '#bbbbbb',\n",
    "        'axes.linewidth': 1,\n",
    "    }\n",
    ")\n",
    "from PyART.catalogs import sxs, rit"
   ]
  },
  {
   "cell_type": "code",
   "execution_count": null,
   "id": "7190749d",
   "metadata": {},
   "outputs": [],
   "source": []
  }
 ],
 "metadata": {
  "kernelspec": {
   "display_name": "igwn-py311",
   "language": "python",
   "name": "python3"
  },
  "language_info": {
   "codemirror_mode": {
    "name": "ipython",
    "version": 3
   },
   "file_extension": ".py",
   "mimetype": "text/x-python",
   "name": "python",
   "nbconvert_exporter": "python",
   "pygments_lexer": "ipython3",
   "version": "3.11.11"
  }
 },
 "nbformat": 4,
 "nbformat_minor": 5
}
