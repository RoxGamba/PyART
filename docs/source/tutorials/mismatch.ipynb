{
 "cells": [
  {
   "cell_type": "markdown",
   "id": "072e74ff",
   "metadata": {},
   "source": [
    "# 3. Mode-by-mode Mismatch\n",
    "\n",
    "This tutorial demonstrates how to use PyART to calculate mode-by-mode mismatch in frequency domain."
   ]
  },
  {
   "cell_type": "markdown",
   "id": "9372a829",
   "metadata": {},
   "source": []
  }
 ],
 "metadata": {
  "language_info": {
   "name": "python"
  }
 },
 "nbformat": 4,
 "nbformat_minor": 5
}
